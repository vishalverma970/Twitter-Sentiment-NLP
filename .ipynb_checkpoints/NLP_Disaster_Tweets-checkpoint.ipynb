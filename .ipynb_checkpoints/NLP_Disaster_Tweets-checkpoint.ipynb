{
 "cells": [
  {
   "cell_type": "markdown",
   "id": "16f4082e",
   "metadata": {},
   "source": [
    "# Brief description of the problem and data "
   ]
  },
  {
   "cell_type": "markdown",
   "id": "84186712",
   "metadata": {},
   "source": [
    "Objective is to build a model that predicts which Tweets are about real disasters and which one’s aren’t.\n",
    "In data 10,000 tweets were hand classified."
   ]
  },
  {
   "cell_type": "code",
   "execution_count": null,
   "id": "e6b8a240",
   "metadata": {},
   "outputs": [],
   "source": []
  },
  {
   "cell_type": "code",
   "execution_count": null,
   "id": "dc1eef88",
   "metadata": {},
   "outputs": [],
   "source": []
  },
  {
   "cell_type": "code",
   "execution_count": null,
   "id": "ee7013da",
   "metadata": {},
   "outputs": [],
   "source": []
  },
  {
   "cell_type": "code",
   "execution_count": null,
   "id": "c1d91dc3",
   "metadata": {},
   "outputs": [],
   "source": []
  },
  {
   "cell_type": "code",
   "execution_count": 1,
   "id": "53e3eaaf",
   "metadata": {},
   "outputs": [],
   "source": [
    "import pandas as pd\n",
    "import numpy as np\n",
    "import matplotlib.pyplot as plt\n",
    "import seaborn as sns"
   ]
  },
  {
   "cell_type": "code",
   "execution_count": null,
   "id": "2e367875",
   "metadata": {},
   "outputs": [],
   "source": []
  }
 ],
 "metadata": {
  "kernelspec": {
   "display_name": "Python 3 (ipykernel)",
   "language": "python",
   "name": "python3"
  },
  "language_info": {
   "codemirror_mode": {
    "name": "ipython",
    "version": 3
   },
   "file_extension": ".py",
   "mimetype": "text/x-python",
   "name": "python",
   "nbconvert_exporter": "python",
   "pygments_lexer": "ipython3",
   "version": "3.8.13"
  }
 },
 "nbformat": 4,
 "nbformat_minor": 5
}
