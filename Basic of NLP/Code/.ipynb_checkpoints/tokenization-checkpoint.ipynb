{
 "cells": [
  {
   "cell_type": "code",
   "execution_count": 9,
   "id": "5b7e8b12",
   "metadata": {},
   "outputs": [],
   "source": [
    "import pandas as pd"
   ]
  },
  {
   "cell_type": "code",
   "execution_count": 1,
   "id": "d23d62ad",
   "metadata": {},
   "outputs": [],
   "source": [
    "from keras.preprocessing import text, sequence"
   ]
  },
  {
   "cell_type": "code",
   "execution_count": 2,
   "id": "1b0dd05f",
   "metadata": {},
   "outputs": [],
   "source": [
    "from nltk import word_tokenize"
   ]
  },
  {
   "cell_type": "code",
   "execution_count": 3,
   "id": "dc511ef7",
   "metadata": {},
   "outputs": [],
   "source": [
    "a = [['it must be the game'],\n",
    "    ['the weather is good'],\n",
    "    ['Cricket is best game']]"
   ]
  },
  {
   "cell_type": "code",
   "execution_count": 14,
   "id": "d9ed9a53",
   "metadata": {},
   "outputs": [
    {
     "data": {
      "text/html": [
       "<div>\n",
       "<style scoped>\n",
       "    .dataframe tbody tr th:only-of-type {\n",
       "        vertical-align: middle;\n",
       "    }\n",
       "\n",
       "    .dataframe tbody tr th {\n",
       "        vertical-align: top;\n",
       "    }\n",
       "\n",
       "    .dataframe thead th {\n",
       "        text-align: right;\n",
       "    }\n",
       "</style>\n",
       "<table border=\"1\" class=\"dataframe\">\n",
       "  <thead>\n",
       "    <tr style=\"text-align: right;\">\n",
       "      <th></th>\n",
       "      <th>0</th>\n",
       "    </tr>\n",
       "  </thead>\n",
       "  <tbody>\n",
       "    <tr>\n",
       "      <th>0</th>\n",
       "      <td>it must be the game</td>\n",
       "    </tr>\n",
       "    <tr>\n",
       "      <th>1</th>\n",
       "      <td>the weather is good</td>\n",
       "    </tr>\n",
       "    <tr>\n",
       "      <th>2</th>\n",
       "      <td>Cricket is best game</td>\n",
       "    </tr>\n",
       "  </tbody>\n",
       "</table>\n",
       "</div>"
      ],
      "text/plain": [
       "                      0\n",
       "0   it must be the game\n",
       "1   the weather is good\n",
       "2  Cricket is best game"
      ]
     },
     "execution_count": 14,
     "metadata": {},
     "output_type": "execute_result"
    }
   ],
   "source": [
    "pd.DataFrame(a)"
   ]
  },
  {
   "cell_type": "code",
   "execution_count": 15,
   "id": "7ad90664",
   "metadata": {},
   "outputs": [
    {
     "data": {
      "text/plain": [
       "['it must be the game', 'the weather is good', 'Cricket is best game']"
      ]
     },
     "execution_count": 15,
     "metadata": {},
     "output_type": "execute_result"
    }
   ],
   "source": [
    "list(pd.DataFrame(a)[0])\n"
   ]
  },
  {
   "cell_type": "code",
   "execution_count": 16,
   "id": "d58ca15e",
   "metadata": {},
   "outputs": [],
   "source": [
    "tokenizer = text.Tokenizer()\n",
    "tokenizer.fit_on_texts(list(pd.DataFrame(a)[0]))"
   ]
  },
  {
   "cell_type": "code",
   "execution_count": 19,
   "id": "3d0a0150",
   "metadata": {},
   "outputs": [],
   "source": [
    "tokenized_texts = tokenizer.texts_to_sequences(pd.DataFrame(a)[0])\n",
    "#train_X = sequence.pad_sequences(tokenized_texts, maxlen=100)"
   ]
  },
  {
   "cell_type": "code",
   "execution_count": 20,
   "id": "3ffc59ea",
   "metadata": {},
   "outputs": [
    {
     "data": {
      "text/plain": [
       "[[4, 5, 6, 1, 2], [1, 7, 3, 8], [9, 3, 10, 2]]"
      ]
     },
     "execution_count": 20,
     "metadata": {},
     "output_type": "execute_result"
    }
   ],
   "source": [
    "tokenized_texts"
   ]
  },
  {
   "cell_type": "code",
   "execution_count": 23,
   "id": "55561ef7",
   "metadata": {},
   "outputs": [],
   "source": [
    "out = []\n",
    "for i in list(pd.DataFrame(a)[0]):\n",
    "    out += i.split(' ')"
   ]
  },
  {
   "cell_type": "code",
   "execution_count": 27,
   "id": "f57e25a3",
   "metadata": {},
   "outputs": [
    {
     "data": {
      "text/plain": [
       "'{\"1\": \"the\", \"2\": \"game\", \"3\": \"is\", \"4\": \"it\", \"5\": \"must\", \"6\": \"be\", \"7\": \"weather\", \"8\": \"good\", \"9\": \"cricket\", \"10\": \"best\"}'"
      ]
     },
     "execution_count": 27,
     "metadata": {},
     "output_type": "execute_result"
    }
   ],
   "source": [
    "tokenizer.get_config()['index_word']"
   ]
  },
  {
   "cell_type": "code",
   "execution_count": 31,
   "id": "4a175852",
   "metadata": {},
   "outputs": [
    {
     "data": {
      "text/plain": [
       "array([[ 4,  5,  6,  1,  2],\n",
       "       [ 0,  1,  7,  3,  8],\n",
       "       [ 0,  9,  3, 10,  2]], dtype=int32)"
      ]
     },
     "execution_count": 31,
     "metadata": {},
     "output_type": "execute_result"
    }
   ],
   "source": [
    "sequence.pad_sequences(tokenized_texts,maxlen= 5)"
   ]
  },
  {
   "cell_type": "code",
   "execution_count": null,
   "id": "732def61",
   "metadata": {},
   "outputs": [],
   "source": []
  }
 ],
 "metadata": {
  "kernelspec": {
   "display_name": "Python 3 (ipykernel)",
   "language": "python",
   "name": "python3"
  },
  "language_info": {
   "codemirror_mode": {
    "name": "ipython",
    "version": 3
   },
   "file_extension": ".py",
   "mimetype": "text/x-python",
   "name": "python",
   "nbconvert_exporter": "python",
   "pygments_lexer": "ipython3",
   "version": "3.8.13"
  }
 },
 "nbformat": 4,
 "nbformat_minor": 5
}
