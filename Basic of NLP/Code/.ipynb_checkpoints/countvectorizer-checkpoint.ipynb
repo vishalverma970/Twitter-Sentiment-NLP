{
 "cells": [
  {
   "cell_type": "code",
   "execution_count": null,
   "id": "a68abd48",
   "metadata": {},
   "outputs": [],
   "source": [
    "import pandas as pd\n",
    "import numpy as np"
   ]
  },
  {
   "cell_type": "code",
   "execution_count": 3,
   "id": "65b6d87a",
   "metadata": {},
   "outputs": [],
   "source": [
    "from sklearn import feature_extraction"
   ]
  },
  {
   "cell_type": "markdown",
   "id": "885d3908",
   "metadata": {},
   "source": [
    "to get column name use vocabulary_\n",
    "\n",
    "Countvectorizer automatically lower case data and remove unnecessary symbols"
   ]
  },
  {
   "cell_type": "code",
   "execution_count": 1,
   "id": "70e23013",
   "metadata": {},
   "outputs": [],
   "source": [
    "df1 = ['One Geek helps Two Geeks', 'Two Geeks help Four Geeks', 'Each Geek helps many other Geeks at GeeksforGeeks.']"
   ]
  },
  {
   "cell_type": "code",
   "execution_count": 2,
   "id": "c1267d93",
   "metadata": {},
   "outputs": [
    {
     "data": {
      "text/plain": [
       "['One Geek helps Two Geeks',\n",
       " 'Two Geeks help Four Geeks',\n",
       " 'Each Geek helps many other Geeks at GeeksforGeeks.']"
      ]
     },
     "execution_count": 2,
     "metadata": {},
     "output_type": "execute_result"
    }
   ],
   "source": [
    "df1"
   ]
  },
  {
   "cell_type": "code",
   "execution_count": 6,
   "id": "895750f7",
   "metadata": {},
   "outputs": [],
   "source": [
    "cnt_vec = feature_extraction.text.CountVectorizer()"
   ]
  },
  {
   "cell_type": "code",
   "execution_count": 7,
   "id": "d5dc638c",
   "metadata": {},
   "outputs": [
    {
     "data": {
      "text/plain": [
       "CountVectorizer()"
      ]
     },
     "execution_count": 7,
     "metadata": {},
     "output_type": "execute_result"
    }
   ],
   "source": [
    "cnt_vec.fit(df1)"
   ]
  },
  {
   "cell_type": "code",
   "execution_count": 10,
   "id": "e93e5aa5",
   "metadata": {},
   "outputs": [],
   "source": [
    "vec_df = cnt_vec.transform(df1)"
   ]
  },
  {
   "cell_type": "code",
   "execution_count": 13,
   "id": "b1d5aacd",
   "metadata": {},
   "outputs": [
    {
     "data": {
      "text/plain": [
       "matrix([[0, 0, 0, 1, 1, 0, 0, 1, 0, 1, 0, 1],\n",
       "        [0, 0, 1, 0, 2, 0, 1, 0, 0, 0, 0, 1],\n",
       "        [1, 1, 0, 1, 1, 1, 0, 1, 1, 0, 1, 0]])"
      ]
     },
     "execution_count": 13,
     "metadata": {},
     "output_type": "execute_result"
    }
   ],
   "source": [
    "vec_df.todense()"
   ]
  },
  {
   "cell_type": "code",
   "execution_count": 15,
   "id": "f8dd020e",
   "metadata": {},
   "outputs": [
    {
     "data": {
      "text/plain": [
       "{'one': 9,\n",
       " 'geek': 3,\n",
       " 'helps': 7,\n",
       " 'two': 11,\n",
       " 'geeks': 4,\n",
       " 'help': 6,\n",
       " 'four': 2,\n",
       " 'each': 1,\n",
       " 'many': 8,\n",
       " 'other': 10,\n",
       " 'at': 0,\n",
       " 'geeksforgeeks': 5}"
      ]
     },
     "execution_count": 15,
     "metadata": {},
     "output_type": "execute_result"
    }
   ],
   "source": [
    "cnt_vec.vocabulary_"
   ]
  },
  {
   "cell_type": "code",
   "execution_count": null,
   "id": "42861d4d",
   "metadata": {},
   "outputs": [],
   "source": []
  }
 ],
 "metadata": {
  "kernelspec": {
   "display_name": "Python 3",
   "language": "python",
   "name": "python3"
  },
  "language_info": {
   "codemirror_mode": {
    "name": "ipython",
    "version": 3
   },
   "file_extension": ".py",
   "mimetype": "text/x-python",
   "name": "python",
   "nbconvert_exporter": "python",
   "pygments_lexer": "ipython3",
   "version": "3.8.8"
  }
 },
 "nbformat": 4,
 "nbformat_minor": 5
}
