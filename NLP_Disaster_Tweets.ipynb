{
 "cells": [
  {
   "cell_type": "markdown",
   "id": "de07315c",
   "metadata": {},
   "source": [
    "# Brief description of the problem and data "
   ]
  },
  {
   "cell_type": "markdown",
   "id": "179ccdc3",
   "metadata": {},
   "source": [
    "Objective is to build a model that predicts which Tweets are about real disasters and which one’s aren’t.\n",
    "In data 10,000 tweets were hand classified.\n",
    "\n",
    "Results are evaluted based on F1 score of the model."
   ]
  },
  {
   "cell_type": "markdown",
   "id": "f8701579",
   "metadata": {},
   "source": [
    "## ______________________________________"
   ]
  },
  {
   "cell_type": "code",
   "execution_count": null,
   "id": "18927c16",
   "metadata": {},
   "outputs": [],
   "source": []
  },
  {
   "cell_type": "code",
   "execution_count": null,
   "id": "b0276bb8",
   "metadata": {},
   "outputs": [],
   "source": []
  },
  {
   "cell_type": "code",
   "execution_count": null,
   "id": "f1d9a174",
   "metadata": {},
   "outputs": [],
   "source": []
  },
  {
   "cell_type": "code",
   "execution_count": 1,
   "id": "c0de5ac2",
   "metadata": {},
   "outputs": [],
   "source": [
    "import pandas as pd\n",
    "import numpy as np\n",
    "import matplotlib.pyplot as plt\n",
    "import seaborn as sns"
   ]
  },
  {
   "cell_type": "code",
   "execution_count": null,
   "id": "9b68a8cb",
   "metadata": {},
   "outputs": [],
   "source": []
  }
 ],
 "metadata": {
  "kernelspec": {
   "display_name": "Python 3 (ipykernel)",
   "language": "python",
   "name": "python3"
  },
  "language_info": {
   "codemirror_mode": {
    "name": "ipython",
    "version": 3
   },
   "file_extension": ".py",
   "mimetype": "text/x-python",
   "name": "python",
   "nbconvert_exporter": "python",
   "pygments_lexer": "ipython3",
   "version": "3.8.13"
  }
 },
 "nbformat": 4,
 "nbformat_minor": 5
}
